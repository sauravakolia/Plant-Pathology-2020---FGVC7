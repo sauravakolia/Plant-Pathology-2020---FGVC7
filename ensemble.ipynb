{
  "nbformat": 4,
  "nbformat_minor": 0,
  "metadata": {
    "colab": {
      "name": "ensemble.ipynb",
      "provenance": [],
      "collapsed_sections": [],
      "authorship_tag": "ABX9TyMJvegj+RrkeX6igAUEgSlz",
      "include_colab_link": true
    },
    "kernelspec": {
      "name": "python3",
      "display_name": "Python 3"
    },
    "accelerator": "GPU"
  },
  "cells": [
    {
      "cell_type": "markdown",
      "metadata": {
        "id": "view-in-github",
        "colab_type": "text"
      },
      "source": [
        "<a href=\"https://colab.research.google.com/github/sauravakolia/Plant-Pathology-2020---FGVC7/blob/master/ensemble.ipynb\" target=\"_parent\"><img src=\"https://colab.research.google.com/assets/colab-badge.svg\" alt=\"Open In Colab\"/></a>"
      ]
    },
    {
      "cell_type": "code",
      "metadata": {
        "id": "DaTVNdqKfA8K",
        "colab_type": "code",
        "colab": {}
      },
      "source": [
        "import pandas as pd\n",
        "import os"
      ],
      "execution_count": null,
      "outputs": []
    },
    {
      "cell_type": "code",
      "metadata": {
        "id": "G_KudJSeCvYI",
        "colab_type": "code",
        "colab": {}
      },
      "source": [
        "os.mkdir('plant-pathology-2020-fgvc7')"
      ],
      "execution_count": null,
      "outputs": []
    },
    {
      "cell_type": "code",
      "metadata": {
        "id": "ReVReN0dkQ5u",
        "colab_type": "code",
        "colab": {
          "base_uri": "https://localhost:8080/",
          "height": 36
        },
        "outputId": "8414093c-fe4c-4bf8-8a4f-9c80ffc80207"
      },
      "source": [
        "%cd  '/content/plant-pathology-2020-fgvc7'"
      ],
      "execution_count": null,
      "outputs": [
        {
          "output_type": "stream",
          "text": [
            "/content/plant-pathology-2020-fgvc7\n"
          ],
          "name": "stdout"
        }
      ]
    },
    {
      "cell_type": "code",
      "metadata": {
        "id": "cilIDmujPIuv",
        "colab_type": "code",
        "colab": {}
      },
      "source": [
        "# !kaggle competitions download -c plant-pathology-2020-fgvc7 -p /content/plant-pathology-2020-fgvc7/"
      ],
      "execution_count": null,
      "outputs": []
    },
    {
      "cell_type": "code",
      "metadata": {
        "id": "O164O-nQF-16",
        "colab_type": "code",
        "colab": {
          "base_uri": "https://localhost:8080/",
          "height": 243
        },
        "outputId": "b8f0d882-9c29-4af2-ade5-e40236e70cdd"
      },
      "source": [
        "!wget --header 'Host: storage.googleapis.com' --user-agent 'Mozilla/5.0 (Windows NT 10.0; Win64; x64; rv:76.0) Gecko/20100101 Firefox/76.0' --header 'Accept: text/html,application/xhtml+xml,application/xml;q=0.9,image/webp,*/*;q=0.8' --header 'Accept-Language: en-US,en;q=0.5' --referer 'https://www.kaggle.com/' --header 'Upgrade-Insecure-Requests: 1' 'https://storage.googleapis.com/kaggle-competitions-data/kaggle-v2/18648/1026645/bundle/archive.zip?GoogleAccessId=web-data@kaggle-161607.iam.gserviceaccount.com&Expires=1590244341&Signature=rWRur%2FF3R9RDRY%2FvzanR8eG29Hw5ikEWTQ5rR16bJzjLIrom9stYFbfCbDXNbgZAuZufDL7OgwYayIwm9zm8nZNVdlyW9MMrle7NsGqgfDtBkZBRG92epvBxpj%2BIwGB2wKDbQw9UC3Ws1AWmhq%2B9OE7tZF3R7MeC22%2BiLurabSq0HFLZMI1SMPUuh9c2rJ6e6ZhUyd3RjUmmglxGpsrd0CTZZxt%2FlWKjCkx7A15MiJpF5TjqQ%2FYfxsiY%2FB4svVRKCVu1G2SLDLqdi4E87BWYwaTsMuFFwPS%2F5wUEGR9ymxrIj6pXTDlaOmI33pZSG%2FdT73LS%2FnX5aPSjqo6TuVxBdQ%3D%3D&response-content-disposition=attachment%3B+filename%3Dplant-pathology-2020-fgvc7.zip' --output-document 'plant-pathology-2020-fgvc7.zip'"
      ],
      "execution_count": null,
      "outputs": [
        {
          "output_type": "stream",
          "text": [
            "--2020-05-20 14:33:28--  https://storage.googleapis.com/kaggle-competitions-data/kaggle-v2/18648/1026645/bundle/archive.zip?GoogleAccessId=web-data@kaggle-161607.iam.gserviceaccount.com&Expires=1590244341&Signature=rWRur%2FF3R9RDRY%2FvzanR8eG29Hw5ikEWTQ5rR16bJzjLIrom9stYFbfCbDXNbgZAuZufDL7OgwYayIwm9zm8nZNVdlyW9MMrle7NsGqgfDtBkZBRG92epvBxpj%2BIwGB2wKDbQw9UC3Ws1AWmhq%2B9OE7tZF3R7MeC22%2BiLurabSq0HFLZMI1SMPUuh9c2rJ6e6ZhUyd3RjUmmglxGpsrd0CTZZxt%2FlWKjCkx7A15MiJpF5TjqQ%2FYfxsiY%2FB4svVRKCVu1G2SLDLqdi4E87BWYwaTsMuFFwPS%2F5wUEGR9ymxrIj6pXTDlaOmI33pZSG%2FdT73LS%2FnX5aPSjqo6TuVxBdQ%3D%3D&response-content-disposition=attachment%3B+filename%3Dplant-pathology-2020-fgvc7.zip\n",
            "Resolving storage.googleapis.com (storage.googleapis.com)... 172.217.204.128, 2607:f8b0:400c:c10::80\n",
            "Connecting to storage.googleapis.com (storage.googleapis.com)|172.217.204.128|:443... connected.\n",
            "HTTP request sent, awaiting response... 200 OK\n",
            "Length: 817072693 (779M) [application/zip]\n",
            "Saving to: ‘plant-pathology-2020-fgvc7.zip’\n",
            "\n",
            "plant-pathology-202 100%[===================>] 779.22M   239MB/s    in 3.4s    \n",
            "\n",
            "2020-05-20 14:33:32 (230 MB/s) - ‘plant-pathology-2020-fgvc7.zip’ saved [817072693/817072693]\n",
            "\n"
          ],
          "name": "stdout"
        }
      ]
    },
    {
      "cell_type": "code",
      "metadata": {
        "id": "TYcAU1pyGJiJ",
        "colab_type": "code",
        "colab": {}
      },
      "source": [
        "import os\n",
        "import zipfile\n",
        "\n",
        "local_zip = '/content/plant-pathology-2020-fgvc7/plant-pathology-2020-fgvc7.zip'\n",
        "zip_ref = zipfile.ZipFile(local_zip, 'r')\n",
        "zip_ref.extractall('data')\n",
        "zip_ref.close()\n"
      ],
      "execution_count": null,
      "outputs": []
    },
    {
      "cell_type": "code",
      "metadata": {
        "id": "PKSTZbxffo5T",
        "colab_type": "code",
        "colab": {}
      },
      "source": [
        "all_submissions = os.listdir('SubFiles')"
      ],
      "execution_count": null,
      "outputs": []
    },
    {
      "cell_type": "code",
      "metadata": {
        "id": "RJdm-gmbfImC",
        "colab_type": "code",
        "colab": {}
      },
      "source": [
        "all_submissions=['submit9.csv', 'submit8.csv','submit7.csv','submit4.csv','submit12.csv']"
      ],
      "execution_count": null,
      "outputs": []
    },
    {
      "cell_type": "code",
      "metadata": {
        "id": "umgmHbAUpL0S",
        "colab_type": "code",
        "colab": {
          "base_uri": "https://localhost:8080/",
          "height": 36
        },
        "outputId": "35df7e59-8b8f-4f09-e282-28691ea429c1"
      },
      "source": [
        "l=len(all_submissions)\n",
        "l"
      ],
      "execution_count": null,
      "outputs": [
        {
          "output_type": "execute_result",
          "data": {
            "text/plain": [
              "4"
            ]
          },
          "metadata": {
            "tags": []
          },
          "execution_count": 4
        }
      ]
    },
    {
      "cell_type": "code",
      "metadata": {
        "id": "6iqOvL01fupw",
        "colab_type": "code",
        "colab": {}
      },
      "source": [
        "sumb = pd.read_csv('/content/plant-pathology-2020-fgvc7/data/sample_submission.csv')"
      ],
      "execution_count": null,
      "outputs": []
    },
    {
      "cell_type": "code",
      "metadata": {
        "id": "KT2vN6b9rn9B",
        "colab_type": "code",
        "colab": {}
      },
      "source": [
        "test = pd.read_csv('/content/plant-pathology-2020-fgvc7/data/test.csv')\n",
        "# test['image_id']"
      ],
      "execution_count": null,
      "outputs": []
    },
    {
      "cell_type": "code",
      "metadata": {
        "id": "e4IgMMsyst7F",
        "colab_type": "code",
        "colab": {}
      },
      "source": [
        "submission=pd.DataFrame(columns=sumb.columns)"
      ],
      "execution_count": null,
      "outputs": []
    },
    {
      "cell_type": "code",
      "metadata": {
        "id": "lTotXU8RvdHt",
        "colab_type": "code",
        "colab": {}
      },
      "source": [
        "submission=submission.astype({'image_id':str,'healthy':float,'multiple_diseases':float,'rust':float,'scab':float})    \n"
      ],
      "execution_count": null,
      "outputs": []
    },
    {
      "cell_type": "code",
      "metadata": {
        "id": "Mfcdgy-DubiS",
        "colab_type": "code",
        "colab": {}
      },
      "source": [
        "submission['image_id']=test['image_id']"
      ],
      "execution_count": null,
      "outputs": []
    },
    {
      "cell_type": "code",
      "metadata": {
        "id": "EdHDLuC9uWCm",
        "colab_type": "code",
        "colab": {}
      },
      "source": [
        "for col in submission.columns:\n",
        "  if(col!='image_id'):\n",
        "    submission[col].values[:] = 0"
      ],
      "execution_count": null,
      "outputs": []
    },
    {
      "cell_type": "code",
      "metadata": {
        "id": "Sb6iaagbwPFR",
        "colab_type": "code",
        "colab": {
          "base_uri": "https://localhost:8080/",
          "height": 129
        },
        "outputId": "4cea6819-f674-4aa7-bf08-437ba7206ed2"
      },
      "source": [
        "submission.dtypes"
      ],
      "execution_count": null,
      "outputs": [
        {
          "output_type": "execute_result",
          "data": {
            "text/plain": [
              "image_id              object\n",
              "healthy              float64\n",
              "multiple_diseases    float64\n",
              "rust                 float64\n",
              "scab                 float64\n",
              "dtype: object"
            ]
          },
          "metadata": {
            "tags": []
          },
          "execution_count": 11
        }
      ]
    },
    {
      "cell_type": "code",
      "metadata": {
        "id": "Bmd-2F96ggnO",
        "colab_type": "code",
        "colab": {
          "base_uri": "https://localhost:8080/",
          "height": 424
        },
        "outputId": "64337d9b-64ba-4317-a7f0-6d97cc4a2a41"
      },
      "source": [
        "submission"
      ],
      "execution_count": null,
      "outputs": [
        {
          "output_type": "execute_result",
          "data": {
            "text/html": [
              "<div>\n",
              "<style scoped>\n",
              "    .dataframe tbody tr th:only-of-type {\n",
              "        vertical-align: middle;\n",
              "    }\n",
              "\n",
              "    .dataframe tbody tr th {\n",
              "        vertical-align: top;\n",
              "    }\n",
              "\n",
              "    .dataframe thead th {\n",
              "        text-align: right;\n",
              "    }\n",
              "</style>\n",
              "<table border=\"1\" class=\"dataframe\">\n",
              "  <thead>\n",
              "    <tr style=\"text-align: right;\">\n",
              "      <th></th>\n",
              "      <th>image_id</th>\n",
              "      <th>healthy</th>\n",
              "      <th>multiple_diseases</th>\n",
              "      <th>rust</th>\n",
              "      <th>scab</th>\n",
              "    </tr>\n",
              "  </thead>\n",
              "  <tbody>\n",
              "    <tr>\n",
              "      <th>0</th>\n",
              "      <td>Test_0</td>\n",
              "      <td>0.0</td>\n",
              "      <td>0.0</td>\n",
              "      <td>0.0</td>\n",
              "      <td>0.0</td>\n",
              "    </tr>\n",
              "    <tr>\n",
              "      <th>1</th>\n",
              "      <td>Test_1</td>\n",
              "      <td>0.0</td>\n",
              "      <td>0.0</td>\n",
              "      <td>0.0</td>\n",
              "      <td>0.0</td>\n",
              "    </tr>\n",
              "    <tr>\n",
              "      <th>2</th>\n",
              "      <td>Test_2</td>\n",
              "      <td>0.0</td>\n",
              "      <td>0.0</td>\n",
              "      <td>0.0</td>\n",
              "      <td>0.0</td>\n",
              "    </tr>\n",
              "    <tr>\n",
              "      <th>3</th>\n",
              "      <td>Test_3</td>\n",
              "      <td>0.0</td>\n",
              "      <td>0.0</td>\n",
              "      <td>0.0</td>\n",
              "      <td>0.0</td>\n",
              "    </tr>\n",
              "    <tr>\n",
              "      <th>4</th>\n",
              "      <td>Test_4</td>\n",
              "      <td>0.0</td>\n",
              "      <td>0.0</td>\n",
              "      <td>0.0</td>\n",
              "      <td>0.0</td>\n",
              "    </tr>\n",
              "    <tr>\n",
              "      <th>...</th>\n",
              "      <td>...</td>\n",
              "      <td>...</td>\n",
              "      <td>...</td>\n",
              "      <td>...</td>\n",
              "      <td>...</td>\n",
              "    </tr>\n",
              "    <tr>\n",
              "      <th>1816</th>\n",
              "      <td>Test_1816</td>\n",
              "      <td>0.0</td>\n",
              "      <td>0.0</td>\n",
              "      <td>0.0</td>\n",
              "      <td>0.0</td>\n",
              "    </tr>\n",
              "    <tr>\n",
              "      <th>1817</th>\n",
              "      <td>Test_1817</td>\n",
              "      <td>0.0</td>\n",
              "      <td>0.0</td>\n",
              "      <td>0.0</td>\n",
              "      <td>0.0</td>\n",
              "    </tr>\n",
              "    <tr>\n",
              "      <th>1818</th>\n",
              "      <td>Test_1818</td>\n",
              "      <td>0.0</td>\n",
              "      <td>0.0</td>\n",
              "      <td>0.0</td>\n",
              "      <td>0.0</td>\n",
              "    </tr>\n",
              "    <tr>\n",
              "      <th>1819</th>\n",
              "      <td>Test_1819</td>\n",
              "      <td>0.0</td>\n",
              "      <td>0.0</td>\n",
              "      <td>0.0</td>\n",
              "      <td>0.0</td>\n",
              "    </tr>\n",
              "    <tr>\n",
              "      <th>1820</th>\n",
              "      <td>Test_1820</td>\n",
              "      <td>0.0</td>\n",
              "      <td>0.0</td>\n",
              "      <td>0.0</td>\n",
              "      <td>0.0</td>\n",
              "    </tr>\n",
              "  </tbody>\n",
              "</table>\n",
              "<p>1821 rows × 5 columns</p>\n",
              "</div>"
            ],
            "text/plain": [
              "       image_id  healthy  multiple_diseases  rust  scab\n",
              "0        Test_0      0.0                0.0   0.0   0.0\n",
              "1        Test_1      0.0                0.0   0.0   0.0\n",
              "2        Test_2      0.0                0.0   0.0   0.0\n",
              "3        Test_3      0.0                0.0   0.0   0.0\n",
              "4        Test_4      0.0                0.0   0.0   0.0\n",
              "...         ...      ...                ...   ...   ...\n",
              "1816  Test_1816      0.0                0.0   0.0   0.0\n",
              "1817  Test_1817      0.0                0.0   0.0   0.0\n",
              "1818  Test_1818      0.0                0.0   0.0   0.0\n",
              "1819  Test_1819      0.0                0.0   0.0   0.0\n",
              "1820  Test_1820      0.0                0.0   0.0   0.0\n",
              "\n",
              "[1821 rows x 5 columns]"
            ]
          },
          "metadata": {
            "tags": []
          },
          "execution_count": 12
        }
      ]
    },
    {
      "cell_type": "code",
      "metadata": {
        "id": "sWMyKDp0giTg",
        "colab_type": "code",
        "colab": {}
      },
      "source": [
        "for sub in all_submissions:\n",
        "  df = pd.read_csv('SubFiles/'+sub)\n",
        "  submission['healthy']=submission['healthy']+df['healthy']\n",
        "  submission['multiple_diseases']=submission['multiple_diseases']+df['multiple_diseases']\n",
        "  submission['rust']=submission['rust']+df['rust']\n",
        "  submission['scab']=submission['scab']+df['scab']\n",
        "\n",
        "submission['healthy']=submission['healthy']/l\n",
        "submission['multiple_diseases']=submission['multiple_diseases']/l\n",
        "submission['rust']=submission['rust']/l\n",
        "submission['scab']=submission['scab']/l\n",
        "\n"
      ],
      "execution_count": null,
      "outputs": []
    },
    {
      "cell_type": "code",
      "metadata": {
        "id": "aBI2uN1nqbQ0",
        "colab_type": "code",
        "colab": {
          "base_uri": "https://localhost:8080/",
          "height": 424
        },
        "outputId": "6519d9b8-f434-441c-88e1-8fc7a8895850"
      },
      "source": [
        "submission"
      ],
      "execution_count": null,
      "outputs": [
        {
          "output_type": "execute_result",
          "data": {
            "text/html": [
              "<div>\n",
              "<style scoped>\n",
              "    .dataframe tbody tr th:only-of-type {\n",
              "        vertical-align: middle;\n",
              "    }\n",
              "\n",
              "    .dataframe tbody tr th {\n",
              "        vertical-align: top;\n",
              "    }\n",
              "\n",
              "    .dataframe thead th {\n",
              "        text-align: right;\n",
              "    }\n",
              "</style>\n",
              "<table border=\"1\" class=\"dataframe\">\n",
              "  <thead>\n",
              "    <tr style=\"text-align: right;\">\n",
              "      <th></th>\n",
              "      <th>image_id</th>\n",
              "      <th>healthy</th>\n",
              "      <th>multiple_diseases</th>\n",
              "      <th>rust</th>\n",
              "      <th>scab</th>\n",
              "    </tr>\n",
              "  </thead>\n",
              "  <tbody>\n",
              "    <tr>\n",
              "      <th>0</th>\n",
              "      <td>Test_0</td>\n",
              "      <td>0.004007</td>\n",
              "      <td>0.017418</td>\n",
              "      <td>0.977772</td>\n",
              "      <td>0.000803</td>\n",
              "    </tr>\n",
              "    <tr>\n",
              "      <th>1</th>\n",
              "      <td>Test_1</td>\n",
              "      <td>0.000049</td>\n",
              "      <td>0.003898</td>\n",
              "      <td>0.995149</td>\n",
              "      <td>0.000904</td>\n",
              "    </tr>\n",
              "    <tr>\n",
              "      <th>2</th>\n",
              "      <td>Test_2</td>\n",
              "      <td>0.000301</td>\n",
              "      <td>0.000135</td>\n",
              "      <td>0.000006</td>\n",
              "      <td>0.999557</td>\n",
              "    </tr>\n",
              "    <tr>\n",
              "      <th>3</th>\n",
              "      <td>Test_3</td>\n",
              "      <td>0.892506</td>\n",
              "      <td>0.000066</td>\n",
              "      <td>0.107209</td>\n",
              "      <td>0.000219</td>\n",
              "    </tr>\n",
              "    <tr>\n",
              "      <th>4</th>\n",
              "      <td>Test_4</td>\n",
              "      <td>0.000010</td>\n",
              "      <td>0.001584</td>\n",
              "      <td>0.998398</td>\n",
              "      <td>0.000009</td>\n",
              "    </tr>\n",
              "    <tr>\n",
              "      <th>...</th>\n",
              "      <td>...</td>\n",
              "      <td>...</td>\n",
              "      <td>...</td>\n",
              "      <td>...</td>\n",
              "      <td>...</td>\n",
              "    </tr>\n",
              "    <tr>\n",
              "      <th>1816</th>\n",
              "      <td>Test_1816</td>\n",
              "      <td>0.000028</td>\n",
              "      <td>0.013134</td>\n",
              "      <td>0.986741</td>\n",
              "      <td>0.000097</td>\n",
              "    </tr>\n",
              "    <tr>\n",
              "      <th>1817</th>\n",
              "      <td>Test_1817</td>\n",
              "      <td>0.000101</td>\n",
              "      <td>0.019171</td>\n",
              "      <td>0.000290</td>\n",
              "      <td>0.980439</td>\n",
              "    </tr>\n",
              "    <tr>\n",
              "      <th>1818</th>\n",
              "      <td>Test_1818</td>\n",
              "      <td>0.000099</td>\n",
              "      <td>0.005823</td>\n",
              "      <td>0.993957</td>\n",
              "      <td>0.000121</td>\n",
              "    </tr>\n",
              "    <tr>\n",
              "      <th>1819</th>\n",
              "      <td>Test_1819</td>\n",
              "      <td>0.995018</td>\n",
              "      <td>0.000233</td>\n",
              "      <td>0.003562</td>\n",
              "      <td>0.001187</td>\n",
              "    </tr>\n",
              "    <tr>\n",
              "      <th>1820</th>\n",
              "      <td>Test_1820</td>\n",
              "      <td>0.009220</td>\n",
              "      <td>0.025629</td>\n",
              "      <td>0.000114</td>\n",
              "      <td>0.965038</td>\n",
              "    </tr>\n",
              "  </tbody>\n",
              "</table>\n",
              "<p>1821 rows × 5 columns</p>\n",
              "</div>"
            ],
            "text/plain": [
              "       image_id   healthy  multiple_diseases      rust      scab\n",
              "0        Test_0  0.004007           0.017418  0.977772  0.000803\n",
              "1        Test_1  0.000049           0.003898  0.995149  0.000904\n",
              "2        Test_2  0.000301           0.000135  0.000006  0.999557\n",
              "3        Test_3  0.892506           0.000066  0.107209  0.000219\n",
              "4        Test_4  0.000010           0.001584  0.998398  0.000009\n",
              "...         ...       ...                ...       ...       ...\n",
              "1816  Test_1816  0.000028           0.013134  0.986741  0.000097\n",
              "1817  Test_1817  0.000101           0.019171  0.000290  0.980439\n",
              "1818  Test_1818  0.000099           0.005823  0.993957  0.000121\n",
              "1819  Test_1819  0.995018           0.000233  0.003562  0.001187\n",
              "1820  Test_1820  0.009220           0.025629  0.000114  0.965038\n",
              "\n",
              "[1821 rows x 5 columns]"
            ]
          },
          "metadata": {
            "tags": []
          },
          "execution_count": 14
        }
      ]
    },
    {
      "cell_type": "code",
      "metadata": {
        "id": "L7zcpU3Eqrhw",
        "colab_type": "code",
        "colab": {}
      },
      "source": [
        "submission.set_index(\"image_id\",inplace=True)"
      ],
      "execution_count": null,
      "outputs": []
    },
    {
      "cell_type": "code",
      "metadata": {
        "id": "-cLfgpMcrAWt",
        "colab_type": "code",
        "colab": {
          "base_uri": "https://localhost:8080/",
          "height": 455
        },
        "outputId": "3330b90b-d1af-44bc-c405-3ca277eb8a20"
      },
      "source": [
        "submission"
      ],
      "execution_count": null,
      "outputs": [
        {
          "output_type": "execute_result",
          "data": {
            "text/html": [
              "<div>\n",
              "<style scoped>\n",
              "    .dataframe tbody tr th:only-of-type {\n",
              "        vertical-align: middle;\n",
              "    }\n",
              "\n",
              "    .dataframe tbody tr th {\n",
              "        vertical-align: top;\n",
              "    }\n",
              "\n",
              "    .dataframe thead th {\n",
              "        text-align: right;\n",
              "    }\n",
              "</style>\n",
              "<table border=\"1\" class=\"dataframe\">\n",
              "  <thead>\n",
              "    <tr style=\"text-align: right;\">\n",
              "      <th></th>\n",
              "      <th>healthy</th>\n",
              "      <th>multiple_diseases</th>\n",
              "      <th>rust</th>\n",
              "      <th>scab</th>\n",
              "    </tr>\n",
              "    <tr>\n",
              "      <th>image_id</th>\n",
              "      <th></th>\n",
              "      <th></th>\n",
              "      <th></th>\n",
              "      <th></th>\n",
              "    </tr>\n",
              "  </thead>\n",
              "  <tbody>\n",
              "    <tr>\n",
              "      <th>Test_0</th>\n",
              "      <td>0.004007</td>\n",
              "      <td>0.017418</td>\n",
              "      <td>0.977772</td>\n",
              "      <td>0.000803</td>\n",
              "    </tr>\n",
              "    <tr>\n",
              "      <th>Test_1</th>\n",
              "      <td>0.000049</td>\n",
              "      <td>0.003898</td>\n",
              "      <td>0.995149</td>\n",
              "      <td>0.000904</td>\n",
              "    </tr>\n",
              "    <tr>\n",
              "      <th>Test_2</th>\n",
              "      <td>0.000301</td>\n",
              "      <td>0.000135</td>\n",
              "      <td>0.000006</td>\n",
              "      <td>0.999557</td>\n",
              "    </tr>\n",
              "    <tr>\n",
              "      <th>Test_3</th>\n",
              "      <td>0.892506</td>\n",
              "      <td>0.000066</td>\n",
              "      <td>0.107209</td>\n",
              "      <td>0.000219</td>\n",
              "    </tr>\n",
              "    <tr>\n",
              "      <th>Test_4</th>\n",
              "      <td>0.000010</td>\n",
              "      <td>0.001584</td>\n",
              "      <td>0.998398</td>\n",
              "      <td>0.000009</td>\n",
              "    </tr>\n",
              "    <tr>\n",
              "      <th>...</th>\n",
              "      <td>...</td>\n",
              "      <td>...</td>\n",
              "      <td>...</td>\n",
              "      <td>...</td>\n",
              "    </tr>\n",
              "    <tr>\n",
              "      <th>Test_1816</th>\n",
              "      <td>0.000028</td>\n",
              "      <td>0.013134</td>\n",
              "      <td>0.986741</td>\n",
              "      <td>0.000097</td>\n",
              "    </tr>\n",
              "    <tr>\n",
              "      <th>Test_1817</th>\n",
              "      <td>0.000101</td>\n",
              "      <td>0.019171</td>\n",
              "      <td>0.000290</td>\n",
              "      <td>0.980439</td>\n",
              "    </tr>\n",
              "    <tr>\n",
              "      <th>Test_1818</th>\n",
              "      <td>0.000099</td>\n",
              "      <td>0.005823</td>\n",
              "      <td>0.993957</td>\n",
              "      <td>0.000121</td>\n",
              "    </tr>\n",
              "    <tr>\n",
              "      <th>Test_1819</th>\n",
              "      <td>0.995018</td>\n",
              "      <td>0.000233</td>\n",
              "      <td>0.003562</td>\n",
              "      <td>0.001187</td>\n",
              "    </tr>\n",
              "    <tr>\n",
              "      <th>Test_1820</th>\n",
              "      <td>0.009220</td>\n",
              "      <td>0.025629</td>\n",
              "      <td>0.000114</td>\n",
              "      <td>0.965038</td>\n",
              "    </tr>\n",
              "  </tbody>\n",
              "</table>\n",
              "<p>1821 rows × 4 columns</p>\n",
              "</div>"
            ],
            "text/plain": [
              "            healthy  multiple_diseases      rust      scab\n",
              "image_id                                                  \n",
              "Test_0     0.004007           0.017418  0.977772  0.000803\n",
              "Test_1     0.000049           0.003898  0.995149  0.000904\n",
              "Test_2     0.000301           0.000135  0.000006  0.999557\n",
              "Test_3     0.892506           0.000066  0.107209  0.000219\n",
              "Test_4     0.000010           0.001584  0.998398  0.000009\n",
              "...             ...                ...       ...       ...\n",
              "Test_1816  0.000028           0.013134  0.986741  0.000097\n",
              "Test_1817  0.000101           0.019171  0.000290  0.980439\n",
              "Test_1818  0.000099           0.005823  0.993957  0.000121\n",
              "Test_1819  0.995018           0.000233  0.003562  0.001187\n",
              "Test_1820  0.009220           0.025629  0.000114  0.965038\n",
              "\n",
              "[1821 rows x 4 columns]"
            ]
          },
          "metadata": {
            "tags": []
          },
          "execution_count": 16
        }
      ]
    },
    {
      "cell_type": "code",
      "metadata": {
        "id": "n1GPeCHHxt1R",
        "colab_type": "code",
        "colab": {}
      },
      "source": [
        "submission.to_csv('ensemble4.csv')"
      ],
      "execution_count": null,
      "outputs": []
    },
    {
      "cell_type": "code",
      "metadata": {
        "id": "GToGQlJux0Vj",
        "colab_type": "code",
        "colab": {}
      },
      "source": [
        ""
      ],
      "execution_count": null,
      "outputs": []
    }
  ]
}